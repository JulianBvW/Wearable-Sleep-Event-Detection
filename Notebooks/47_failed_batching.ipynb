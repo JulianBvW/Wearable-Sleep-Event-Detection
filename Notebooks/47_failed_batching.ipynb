{
 "cells": [
  {
   "cell_type": "code",
   "execution_count": 1,
   "metadata": {},
   "outputs": [],
   "source": [
    "from wearsed.dataset.WearSEDDataset import WearSEDDataset\n",
    "from wearsed.training.batching import get_multi_batch, get_test_batch"
   ]
  },
  {
   "cell_type": "code",
   "execution_count": 2,
   "metadata": {},
   "outputs": [],
   "source": [
    "full_dataset = WearSEDDataset(mesaid_path='../wearsed/dataset/data_ids/', signals_to_read=['SpO2', 'Pleth'])"
   ]
  },
  {
   "cell_type": "code",
   "execution_count": 3,
   "metadata": {},
   "outputs": [
    {
     "name": "stdout",
     "output_type": "stream",
     "text": [
      "### start=0, end=1800, diff=1800, len(event_or_not)=33609, True\n",
      "      # seq_hypnogram.shape=torch.Size([1, 1800])\n",
      "      # seq_spo2.shape=torch.Size([1, 1800])\n",
      "      # seq_pleth.shape=torch.Size([256, 1800])\n",
      "      # combined_signal.shape=torch.Size([258, 1800])\n",
      "      # event_or_not[start:end].shape=torch.Size([1800])\n",
      "### start=1680, end=3480, diff=1800, len(event_or_not)=33609, True\n",
      "      # seq_hypnogram.shape=torch.Size([1, 1800])\n",
      "      # seq_spo2.shape=torch.Size([1, 1800])\n",
      "      # seq_pleth.shape=torch.Size([256, 1800])\n",
      "      # combined_signal.shape=torch.Size([258, 1800])\n",
      "      # event_or_not[start:end].shape=torch.Size([1800])\n",
      "### start=3360, end=5160, diff=1800, len(event_or_not)=33609, True\n",
      "      # seq_hypnogram.shape=torch.Size([1, 1800])\n",
      "      # seq_spo2.shape=torch.Size([1, 1800])\n",
      "      # seq_pleth.shape=torch.Size([256, 1800])\n",
      "      # combined_signal.shape=torch.Size([258, 1800])\n",
      "      # event_or_not[start:end].shape=torch.Size([1800])\n",
      "### start=5040, end=6840, diff=1800, len(event_or_not)=33609, True\n",
      "      # seq_hypnogram.shape=torch.Size([1, 1800])\n",
      "      # seq_spo2.shape=torch.Size([1, 1800])\n",
      "      # seq_pleth.shape=torch.Size([256, 1800])\n",
      "      # combined_signal.shape=torch.Size([258, 1800])\n",
      "      # event_or_not[start:end].shape=torch.Size([1800])\n",
      "### start=6720, end=8520, diff=1800, len(event_or_not)=33609, True\n",
      "      # seq_hypnogram.shape=torch.Size([1, 1800])\n",
      "      # seq_spo2.shape=torch.Size([1, 1800])\n",
      "      # seq_pleth.shape=torch.Size([256, 1800])\n",
      "      # combined_signal.shape=torch.Size([258, 1800])\n",
      "      # event_or_not[start:end].shape=torch.Size([1800])\n",
      "### start=8400, end=10200, diff=1800, len(event_or_not)=33609, True\n",
      "      # seq_hypnogram.shape=torch.Size([1, 1800])\n",
      "      # seq_spo2.shape=torch.Size([1, 1800])\n",
      "      # seq_pleth.shape=torch.Size([256, 1800])\n",
      "      # combined_signal.shape=torch.Size([258, 1800])\n",
      "      # event_or_not[start:end].shape=torch.Size([1800])\n",
      "### start=10080, end=11880, diff=1800, len(event_or_not)=33609, True\n",
      "      # seq_hypnogram.shape=torch.Size([1, 1800])\n",
      "      # seq_spo2.shape=torch.Size([1, 1800])\n",
      "      # seq_pleth.shape=torch.Size([256, 1800])\n",
      "      # combined_signal.shape=torch.Size([258, 1800])\n",
      "      # event_or_not[start:end].shape=torch.Size([1800])\n",
      "### start=11760, end=13560, diff=1800, len(event_or_not)=33609, True\n",
      "      # seq_hypnogram.shape=torch.Size([1, 1800])\n",
      "      # seq_spo2.shape=torch.Size([1, 1800])\n",
      "      # seq_pleth.shape=torch.Size([256, 1800])\n",
      "      # combined_signal.shape=torch.Size([258, 1800])\n",
      "      # event_or_not[start:end].shape=torch.Size([1800])\n",
      "### start=13440, end=15240, diff=1800, len(event_or_not)=33609, True\n",
      "      # seq_hypnogram.shape=torch.Size([1, 1800])\n",
      "      # seq_spo2.shape=torch.Size([1, 1800])\n",
      "      # seq_pleth.shape=torch.Size([256, 1800])\n",
      "      # combined_signal.shape=torch.Size([258, 1800])\n",
      "      # event_or_not[start:end].shape=torch.Size([1800])\n",
      "### start=15120, end=16920, diff=1800, len(event_or_not)=33609, True\n",
      "      # seq_hypnogram.shape=torch.Size([1, 1800])\n",
      "      # seq_spo2.shape=torch.Size([1, 1800])\n",
      "      # seq_pleth.shape=torch.Size([256, 1800])\n",
      "      # combined_signal.shape=torch.Size([258, 1800])\n",
      "      # event_or_not[start:end].shape=torch.Size([1800])\n",
      "### start=16800, end=18600, diff=1800, len(event_or_not)=33609, True\n",
      "      # seq_hypnogram.shape=torch.Size([1, 1800])\n",
      "      # seq_spo2.shape=torch.Size([1, 1800])\n",
      "      # seq_pleth.shape=torch.Size([256, 1800])\n",
      "      # combined_signal.shape=torch.Size([258, 1800])\n",
      "      # event_or_not[start:end].shape=torch.Size([1800])\n",
      "### start=18480, end=20280, diff=1800, len(event_or_not)=33609, True\n",
      "      # seq_hypnogram.shape=torch.Size([1, 1800])\n",
      "      # seq_spo2.shape=torch.Size([1, 1800])\n",
      "      # seq_pleth.shape=torch.Size([256, 1800])\n",
      "      # combined_signal.shape=torch.Size([258, 1800])\n",
      "      # event_or_not[start:end].shape=torch.Size([1800])\n",
      "### start=20160, end=21960, diff=1800, len(event_or_not)=33609, True\n",
      "      # seq_hypnogram.shape=torch.Size([1, 1800])\n",
      "      # seq_spo2.shape=torch.Size([1, 1800])\n",
      "      # seq_pleth.shape=torch.Size([256, 1800])\n",
      "      # combined_signal.shape=torch.Size([258, 1800])\n",
      "      # event_or_not[start:end].shape=torch.Size([1800])\n",
      "### start=21840, end=23640, diff=1800, len(event_or_not)=33609, True\n",
      "      # seq_hypnogram.shape=torch.Size([1, 1800])\n",
      "      # seq_spo2.shape=torch.Size([1, 1800])\n",
      "      # seq_pleth.shape=torch.Size([256, 1800])\n",
      "      # combined_signal.shape=torch.Size([258, 1800])\n",
      "      # event_or_not[start:end].shape=torch.Size([1800])\n",
      "### start=23520, end=25320, diff=1800, len(event_or_not)=33609, True\n",
      "      # seq_hypnogram.shape=torch.Size([1, 1800])\n",
      "      # seq_spo2.shape=torch.Size([1, 1800])\n",
      "      # seq_pleth.shape=torch.Size([256, 1800])\n",
      "      # combined_signal.shape=torch.Size([258, 1800])\n",
      "      # event_or_not[start:end].shape=torch.Size([1800])\n",
      "### start=25200, end=27000, diff=1800, len(event_or_not)=33609, True\n",
      "      # seq_hypnogram.shape=torch.Size([1, 1800])\n",
      "      # seq_spo2.shape=torch.Size([1, 1800])\n",
      "      # seq_pleth.shape=torch.Size([256, 1800])\n",
      "      # combined_signal.shape=torch.Size([258, 1800])\n",
      "      # event_or_not[start:end].shape=torch.Size([1800])\n",
      "### start=26880, end=28680, diff=1800, len(event_or_not)=33609, True\n",
      "      # seq_hypnogram.shape=torch.Size([1, 1800])\n",
      "      # seq_spo2.shape=torch.Size([1, 1800])\n",
      "      # seq_pleth.shape=torch.Size([256, 1800])\n",
      "      # combined_signal.shape=torch.Size([258, 1800])\n",
      "      # event_or_not[start:end].shape=torch.Size([1800])\n",
      "### start=28560, end=30360, diff=1800, len(event_or_not)=33609, True\n",
      "      # seq_hypnogram.shape=torch.Size([1, 1800])\n",
      "      # seq_spo2.shape=torch.Size([1, 1800])\n",
      "      # seq_pleth.shape=torch.Size([256, 1800])\n",
      "      # combined_signal.shape=torch.Size([258, 1800])\n",
      "      # event_or_not[start:end].shape=torch.Size([1800])\n",
      "### start=30240, end=32040, diff=1800, len(event_or_not)=33609, True\n",
      "      # seq_hypnogram.shape=torch.Size([1, 1800])\n",
      "      # seq_spo2.shape=torch.Size([1, 1800])\n",
      "      # seq_pleth.shape=torch.Size([256, 1800])\n",
      "      # combined_signal.shape=torch.Size([258, 1800])\n",
      "      # event_or_not[start:end].shape=torch.Size([1800])\n"
     ]
    }
   ],
   "source": [
    "x, y = get_test_batch(full_dataset.from_id(5882), seq_length=30*60, overlap_window=60)"
   ]
  },
  {
   "cell_type": "code",
   "execution_count": 8,
   "metadata": {},
   "outputs": [
    {
     "name": "stdout",
     "output_type": "stream",
     "text": [
      "torch.Size([18, 258, 1800]) torch.Size([18, 1800])\n"
     ]
    }
   ],
   "source": [
    "print(x.shape, y.shape)"
   ]
  },
  {
   "cell_type": "code",
   "execution_count": 5,
   "metadata": {},
   "outputs": [
    {
     "data": {
      "text/plain": [
       "1680"
      ]
     },
     "execution_count": 5,
     "metadata": {},
     "output_type": "execute_result"
    }
   ],
   "source": [
    "30*60 - 2 * 60"
   ]
  },
  {
   "cell_type": "code",
   "execution_count": 6,
   "metadata": {},
   "outputs": [
    {
     "data": {
      "text/plain": [
       "[0, 6, 12, 18]"
      ]
     },
     "execution_count": 6,
     "metadata": {},
     "output_type": "execute_result"
    }
   ],
   "source": [
    "list(range(0, 20, 6))"
   ]
  },
  {
   "cell_type": "code",
   "execution_count": 7,
   "metadata": {},
   "outputs": [
    {
     "data": {
      "text/plain": [
       "[0,\n",
       " 1680,\n",
       " 3360,\n",
       " 5040,\n",
       " 6720,\n",
       " 8400,\n",
       " 10080,\n",
       " 11760,\n",
       " 13440,\n",
       " 15120,\n",
       " 16800,\n",
       " 18480,\n",
       " 20160,\n",
       " 21840,\n",
       " 23520,\n",
       " 25200,\n",
       " 26880,\n",
       " 28560,\n",
       " 30240,\n",
       " 31920,\n",
       " 33600]"
      ]
     },
     "execution_count": 7,
     "metadata": {},
     "output_type": "execute_result"
    }
   ],
   "source": [
    "list(range(0, 33609, 30*60 - 2 * 60))"
   ]
  }
 ],
 "metadata": {
  "kernelspec": {
   "display_name": "master",
   "language": "python",
   "name": "python3"
  },
  "language_info": {
   "codemirror_mode": {
    "name": "ipython",
    "version": 3
   },
   "file_extension": ".py",
   "mimetype": "text/x-python",
   "name": "python",
   "nbconvert_exporter": "python",
   "pygments_lexer": "ipython3",
   "version": "3.12.7"
  }
 },
 "nbformat": 4,
 "nbformat_minor": 2
}
