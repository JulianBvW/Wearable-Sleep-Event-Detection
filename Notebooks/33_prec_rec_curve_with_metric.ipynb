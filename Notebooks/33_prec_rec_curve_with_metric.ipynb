{
 "cells": [
  {
   "cell_type": "markdown",
   "metadata": {},
   "source": [
    "Metrics:\n",
    "- Sensitivity (Precision) - What % of real events got detected? $\\frac{TP}{TP+FP}$\n",
    "- Specificity - What % of no events got detected? $\\frac{TN}{TN+FP}$\n",
    "- Recall - What % of predicted events where real events? $\\frac{TP}{TP+FN}$"
   ]
  },
  {
   "cell_type": "code",
   "execution_count": 1,
   "metadata": {},
   "outputs": [],
   "source": [
    "from wearsed.training.metric import metric, correct\n",
    "import matplotlib.pyplot as plt\n",
    "from tqdm import tqdm\n",
    "import pandas as pd"
   ]
  },
  {
   "cell_type": "code",
   "execution_count": 2,
   "metadata": {},
   "outputs": [],
   "source": [
    "runs = [\n",
    "    ('new_baseline_failsafe', 32),\n",
    "    ('new_baseline_BN', 31),\n",
    "    ('no_spo2', 23),\n",
    "    ('pleth_pre_stat_vae', 49),\n",
    "    ('pleth_pre_vae', 49),\n",
    "    ('pleth_pre_stat', 49),\n",
    "]"
   ]
  },
  {
   "cell_type": "code",
   "execution_count": 3,
   "metadata": {},
   "outputs": [],
   "source": [
    "def get_precision_recall(y_true, y_pred, threshold):\n",
    "    y_pred = (y_pred > threshold)*1\n",
    "    TP, FP, FN = metric(y_pred, y_true)  # TODO add option to disable correct()\n",
    "    precision = TP / (TP + FP)\n",
    "    recall = TP / (TP + FN)\n",
    "    return precision, recall"
   ]
  },
  {
   "cell_type": "code",
   "execution_count": 4,
   "metadata": {},
   "outputs": [
    {
     "name": "stdout",
     "output_type": "stream",
     "text": [
      "##### 1\n",
      "y_pred_list = to_event_list(correct(y_pred))\n",
      "y_true_list = to_event_list(y_true)\n",
      "calc_metrics >>>\n"
     ]
    },
    {
     "name": "stderr",
     "output_type": "stream",
     "text": [
      "100%|██████████| 64418/64418 [07:01<00:00, 152.91it/s]\n"
     ]
    },
    {
     "name": "stdout",
     "output_type": "stream",
     "text": [
      "66.4\t42.2\n",
      "##### 2\n",
      "y_pred_list = to_event_list(correct(y_pred))\n",
      "y_true_list = to_event_list(y_true)\n",
      "calc_metrics >>>\n"
     ]
    },
    {
     "name": "stderr",
     "output_type": "stream",
     "text": [
      "100%|██████████| 64292/64292 [05:54<00:00, 181.16it/s]\n"
     ]
    },
    {
     "name": "stdout",
     "output_type": "stream",
     "text": [
      "81.0\t51.5\n",
      "##### 3\n",
      "y_pred_list = to_event_list(correct(y_pred))\n",
      "y_true_list = to_event_list(y_true)\n",
      "calc_metrics >>>\n"
     ]
    },
    {
     "name": "stderr",
     "output_type": "stream",
     "text": [
      "100%|██████████| 64892/64892 [05:42<00:00, 189.72it/s]\n"
     ]
    },
    {
     "name": "stdout",
     "output_type": "stream",
     "text": [
      "87.6\t56.2\n",
      "##### 4\n",
      "y_pred_list = to_event_list(correct(y_pred))\n",
      "y_true_list = to_event_list(y_true)\n",
      "calc_metrics >>>\n"
     ]
    },
    {
     "name": "stderr",
     "output_type": "stream",
     "text": [
      "100%|██████████| 63561/63561 [05:17<00:00, 200.15it/s]\n"
     ]
    },
    {
     "name": "stdout",
     "output_type": "stream",
     "text": [
      "90.8\t57.0\n",
      "##### 5\n",
      "y_pred_list = to_event_list(correct(y_pred))\n",
      "y_true_list = to_event_list(y_true)\n",
      "calc_metrics >>>\n"
     ]
    },
    {
     "name": "stderr",
     "output_type": "stream",
     "text": [
      "100%|██████████| 58050/58050 [04:51<00:00, 199.09it/s]\n"
     ]
    },
    {
     "name": "stdout",
     "output_type": "stream",
     "text": [
      "93.0\t53.3\n",
      "##### 6\n",
      "y_pred_list = to_event_list(correct(y_pred))\n",
      "y_true_list = to_event_list(y_true)\n",
      "calc_metrics >>>\n"
     ]
    },
    {
     "name": "stderr",
     "output_type": "stream",
     "text": [
      " 34%|███▍      | 17474/51104 [00:36<01:09, 483.31it/s]\n"
     ]
    },
    {
     "ename": "KeyboardInterrupt",
     "evalue": "",
     "output_type": "error",
     "traceback": [
      "\u001b[0;31m---------------------------------------------------------------------------\u001b[0m",
      "\u001b[0;31mKeyboardInterrupt\u001b[0m                         Traceback (most recent call last)",
      "Cell \u001b[0;32mIn[4], line 5\u001b[0m\n\u001b[1;32m      3\u001b[0m \u001b[38;5;28;01mfor\u001b[39;00m thr \u001b[38;5;129;01min\u001b[39;00m \u001b[38;5;28mrange\u001b[39m(\u001b[38;5;241m1\u001b[39m, \u001b[38;5;241m10\u001b[39m):\n\u001b[1;32m      4\u001b[0m     \u001b[38;5;28mprint\u001b[39m(\u001b[38;5;124mf\u001b[39m\u001b[38;5;124m'\u001b[39m\u001b[38;5;124m##### \u001b[39m\u001b[38;5;132;01m{\u001b[39;00mthr\u001b[38;5;132;01m}\u001b[39;00m\u001b[38;5;124m'\u001b[39m)\n\u001b[0;32m----> 5\u001b[0m     precision, recall \u001b[38;5;241m=\u001b[39m \u001b[43mget_precision_recall\u001b[49m\u001b[43m(\u001b[49m\u001b[43my_true\u001b[49m\u001b[43m,\u001b[49m\u001b[43m \u001b[49m\u001b[43my_pred\u001b[49m\u001b[43m,\u001b[49m\u001b[43m \u001b[49m\u001b[43mthr\u001b[49m\u001b[38;5;241;43m/\u001b[39;49m\u001b[38;5;241;43m10\u001b[39;49m\u001b[43m)\u001b[49m\n\u001b[1;32m      6\u001b[0m     \u001b[38;5;28mprint\u001b[39m(\u001b[38;5;124mf\u001b[39m\u001b[38;5;124m'\u001b[39m\u001b[38;5;132;01m{\u001b[39;00m\u001b[38;5;28mround\u001b[39m(precision\u001b[38;5;241m*\u001b[39m\u001b[38;5;241m100\u001b[39m,\u001b[38;5;250m \u001b[39m\u001b[38;5;241m1\u001b[39m)\u001b[38;5;132;01m}\u001b[39;00m\u001b[38;5;130;01m\\t\u001b[39;00m\u001b[38;5;132;01m{\u001b[39;00m\u001b[38;5;28mround\u001b[39m(recall\u001b[38;5;241m*\u001b[39m\u001b[38;5;241m100\u001b[39m,\u001b[38;5;250m \u001b[39m\u001b[38;5;241m1\u001b[39m)\u001b[38;5;132;01m}\u001b[39;00m\u001b[38;5;124m'\u001b[39m)\n",
      "Cell \u001b[0;32mIn[3], line 3\u001b[0m, in \u001b[0;36mget_precision_recall\u001b[0;34m(y_true, y_pred, threshold)\u001b[0m\n\u001b[1;32m      1\u001b[0m \u001b[38;5;28;01mdef\u001b[39;00m \u001b[38;5;21mget_precision_recall\u001b[39m(y_true, y_pred, threshold):\n\u001b[1;32m      2\u001b[0m     y_pred \u001b[38;5;241m=\u001b[39m (y_pred \u001b[38;5;241m>\u001b[39m threshold)\u001b[38;5;241m*\u001b[39m\u001b[38;5;241m1\u001b[39m\n\u001b[0;32m----> 3\u001b[0m     TP, FP, FN \u001b[38;5;241m=\u001b[39m \u001b[43mmetric\u001b[49m\u001b[43m(\u001b[49m\u001b[43my_pred\u001b[49m\u001b[43m,\u001b[49m\u001b[43m \u001b[49m\u001b[43my_true\u001b[49m\u001b[43m)\u001b[49m  \u001b[38;5;66;03m# TODO add option to disable correct()\u001b[39;00m\n\u001b[1;32m      4\u001b[0m     precision \u001b[38;5;241m=\u001b[39m TP \u001b[38;5;241m/\u001b[39m (TP \u001b[38;5;241m+\u001b[39m FP)\n\u001b[1;32m      5\u001b[0m     recall \u001b[38;5;241m=\u001b[39m TP \u001b[38;5;241m/\u001b[39m (TP \u001b[38;5;241m+\u001b[39m FN)\n",
      "File \u001b[0;32m~/Projects/Wearable-Sleep-Event-Detection/wearsed/training/metric.py:63\u001b[0m, in \u001b[0;36mmetric\u001b[0;34m(y_pred, y_true)\u001b[0m\n\u001b[1;32m      0\u001b[0m <Error retrieving source code with stack_data see ipython/ipython#13598>\n",
      "File \u001b[0;32m~/Projects/Wearable-Sleep-Event-Detection/wearsed/training/metric.py:47\u001b[0m, in \u001b[0;36mcalc_metrics\u001b[0;34m(y_pred_list, y_true_list)\u001b[0m\n\u001b[1;32m     45\u001b[0m             TPs\u001b[38;5;241m.\u001b[39mappend(i)\n\u001b[1;32m     46\u001b[0m             \u001b[38;5;28;01mdel\u001b[39;00m y_true_list[j]\n\u001b[0;32m---> 47\u001b[0m             \u001b[38;5;28;01mbreak\u001b[39;00m\n\u001b[1;32m     48\u001b[0m \u001b[38;5;28;01mfor\u001b[39;00m i \u001b[38;5;129;01min\u001b[39;00m TPs[::\u001b[38;5;241m-\u001b[39m\u001b[38;5;241m1\u001b[39m]:\n\u001b[1;32m     49\u001b[0m     \u001b[38;5;28;01mdel\u001b[39;00m y_pred_list[i]\n",
      "File \u001b[0;32m~/Projects/Wearable-Sleep-Event-Detection/wearsed/training/metric.py:39\u001b[0m, in \u001b[0;36mdo_overlap\u001b[0;34m(ev1, ev2)\u001b[0m\n\u001b[1;32m      0\u001b[0m <Error retrieving source code with stack_data see ipython/ipython#13598>\n",
      "\u001b[0;31mKeyboardInterrupt\u001b[0m: "
     ]
    }
   ],
   "source": [
    "output = pd.read_csv('../wearsed/training/baseline_conv/output/new_baseline_BN/test_preds_epoch_31.csv')\n",
    "y_true, y_pred = output['targets'], output['predictions']\n",
    "for thr in range(1, 10):\n",
    "    print(f'##### {thr}')\n",
    "    precision, recall = get_precision_recall(y_true, y_pred, thr/10)\n",
    "    print(f'{round(precision*100, 1)}\\t{round(recall*100, 1)}')"
   ]
  }
 ],
 "metadata": {
  "kernelspec": {
   "display_name": "master",
   "language": "python",
   "name": "python3"
  },
  "language_info": {
   "codemirror_mode": {
    "name": "ipython",
    "version": 3
   },
   "file_extension": ".py",
   "mimetype": "text/x-python",
   "name": "python",
   "nbconvert_exporter": "python",
   "pygments_lexer": "ipython3",
   "version": "3.12.7"
  }
 },
 "nbformat": 4,
 "nbformat_minor": 2
}
