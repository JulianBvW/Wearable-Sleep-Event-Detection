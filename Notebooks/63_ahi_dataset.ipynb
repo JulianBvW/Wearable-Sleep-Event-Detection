{
 "cells": [
  {
   "cell_type": "code",
   "execution_count": null,
   "id": "965a78c6",
   "metadata": {},
   "outputs": [],
   "source": [
    "import pandas as pd"
   ]
  },
  {
   "cell_type": "code",
   "execution_count": 14,
   "id": "489bb875",
   "metadata": {},
   "outputs": [],
   "source": [
    "ahis = pd.read_csv('63_ahis.csv', index_col=0)\n",
    "ahis.set_index('mesa_id', inplace=True)\n",
    "subject_infos = pd.read_csv('/vol/sleepstudy/datasets/mesa/datasets/mesa-sleep-harmonized-dataset-0.7.0.csv')\n",
    "subject_infos.set_index('mesaid', inplace=True)"
   ]
  },
  {
   "cell_type": "code",
   "execution_count": 16,
   "id": "e9085ecd",
   "metadata": {},
   "outputs": [],
   "source": [
    "age_list = []\n",
    "bmi_list = []\n",
    "sex_list = []\n",
    "cur_smoker_list = []\n",
    "ever_smoker_list = []\n",
    "pred_ahi_list = []\n",
    "true_ahi_list = []\n",
    "\n",
    "for mesa_id in ahis.index.values:\n",
    "    subject_info = subject_infos.loc[mesa_id]\n",
    "    age_list.append(subject_info['nsrr_age'])\n",
    "    bmi_list.append(subject_info['nsrr_bmi'])\n",
    "    sex_list.append(0 if subject_info['nsrr_sex'] == 'female' else 1)\n",
    "    cur_smoker_list.append(-1 if subject_info['nsrr_current_smoker'] == 'no' else (1 if subject_info['nsrr_ever_smoker'] == 'yes' else 0))\n",
    "    ever_smoker_list.append(-1 if subject_info['nsrr_ever_smoker'] == 'no' else (1 if subject_info['nsrr_ever_smoker'] == 'yes' else 0))\n",
    "    pred_ahi_list.append(ahis['ahi_pred'][mesa_id])\n",
    "    true_ahi_list.append(ahis['ahi_true'][mesa_id])"
   ]
  },
  {
   "cell_type": "code",
   "execution_count": 22,
   "id": "6b50ebbe",
   "metadata": {},
   "outputs": [],
   "source": [
    "pd.DataFrame({\n",
    "    'age': age_list,\n",
    "    'bmi': bmi_list,\n",
    "    'sex': sex_list,\n",
    "    'cur_smoker': cur_smoker_list,\n",
    "    'ever_smoker': ever_smoker_list,\n",
    "    'pred_ahi': pred_ahi_list,\n",
    "    'true_ahi': true_ahi_list\n",
    "}).to_csv('63_ahi_dataset.csv', index=False)"
   ]
  },
  {
   "cell_type": "code",
   "execution_count": 25,
   "id": "5f0e3edc",
   "metadata": {},
   "outputs": [],
   "source": [
    "full_dataset = pd.read_csv('63_ahi_dataset.csv', index_col=False)"
   ]
  },
  {
   "cell_type": "code",
   "execution_count": 26,
   "id": "288c8906",
   "metadata": {},
   "outputs": [
    {
     "data": {
      "text/html": [
       "<div>\n",
       "<style scoped>\n",
       "    .dataframe tbody tr th:only-of-type {\n",
       "        vertical-align: middle;\n",
       "    }\n",
       "\n",
       "    .dataframe tbody tr th {\n",
       "        vertical-align: top;\n",
       "    }\n",
       "\n",
       "    .dataframe thead th {\n",
       "        text-align: right;\n",
       "    }\n",
       "</style>\n",
       "<table border=\"1\" class=\"dataframe\">\n",
       "  <thead>\n",
       "    <tr style=\"text-align: right;\">\n",
       "      <th></th>\n",
       "      <th>age</th>\n",
       "      <th>bmi</th>\n",
       "      <th>sex</th>\n",
       "      <th>cur_smoker</th>\n",
       "      <th>ever_smoker</th>\n",
       "      <th>pred_ahi</th>\n",
       "      <th>true_ahi</th>\n",
       "    </tr>\n",
       "  </thead>\n",
       "  <tbody>\n",
       "    <tr>\n",
       "      <th>0</th>\n",
       "      <td>85.0</td>\n",
       "      <td>20.00</td>\n",
       "      <td>0</td>\n",
       "      <td>0</td>\n",
       "      <td>-1</td>\n",
       "      <td>11.860465</td>\n",
       "      <td>12.589286</td>\n",
       "    </tr>\n",
       "    <tr>\n",
       "      <th>1</th>\n",
       "      <td>84.0</td>\n",
       "      <td>24.55</td>\n",
       "      <td>1</td>\n",
       "      <td>0</td>\n",
       "      <td>-1</td>\n",
       "      <td>39.553903</td>\n",
       "      <td>43.155452</td>\n",
       "    </tr>\n",
       "    <tr>\n",
       "      <th>2</th>\n",
       "      <td>67.0</td>\n",
       "      <td>20.36</td>\n",
       "      <td>0</td>\n",
       "      <td>0</td>\n",
       "      <td>-1</td>\n",
       "      <td>16.349614</td>\n",
       "      <td>20.818966</td>\n",
       "    </tr>\n",
       "    <tr>\n",
       "      <th>3</th>\n",
       "      <td>63.0</td>\n",
       "      <td>27.32</td>\n",
       "      <td>1</td>\n",
       "      <td>-1</td>\n",
       "      <td>1</td>\n",
       "      <td>11.489362</td>\n",
       "      <td>10.757342</td>\n",
       "    </tr>\n",
       "    <tr>\n",
       "      <th>4</th>\n",
       "      <td>63.0</td>\n",
       "      <td>47.72</td>\n",
       "      <td>0</td>\n",
       "      <td>1</td>\n",
       "      <td>1</td>\n",
       "      <td>45.014138</td>\n",
       "      <td>96.354680</td>\n",
       "    </tr>\n",
       "    <tr>\n",
       "      <th>...</th>\n",
       "      <td>...</td>\n",
       "      <td>...</td>\n",
       "      <td>...</td>\n",
       "      <td>...</td>\n",
       "      <td>...</td>\n",
       "      <td>...</td>\n",
       "      <td>...</td>\n",
       "    </tr>\n",
       "    <tr>\n",
       "      <th>1875</th>\n",
       "      <td>65.0</td>\n",
       "      <td>25.75</td>\n",
       "      <td>1</td>\n",
       "      <td>0</td>\n",
       "      <td>-1</td>\n",
       "      <td>59.610895</td>\n",
       "      <td>51.687243</td>\n",
       "    </tr>\n",
       "    <tr>\n",
       "      <th>1876</th>\n",
       "      <td>82.0</td>\n",
       "      <td>24.40</td>\n",
       "      <td>1</td>\n",
       "      <td>-1</td>\n",
       "      <td>0</td>\n",
       "      <td>7.888112</td>\n",
       "      <td>22.500000</td>\n",
       "    </tr>\n",
       "    <tr>\n",
       "      <th>1877</th>\n",
       "      <td>79.0</td>\n",
       "      <td>27.89</td>\n",
       "      <td>1</td>\n",
       "      <td>-1</td>\n",
       "      <td>1</td>\n",
       "      <td>2.589928</td>\n",
       "      <td>4.541485</td>\n",
       "    </tr>\n",
       "    <tr>\n",
       "      <th>1878</th>\n",
       "      <td>58.0</td>\n",
       "      <td>33.86</td>\n",
       "      <td>1</td>\n",
       "      <td>0</td>\n",
       "      <td>-1</td>\n",
       "      <td>38.771060</td>\n",
       "      <td>47.155963</td>\n",
       "    </tr>\n",
       "    <tr>\n",
       "      <th>1879</th>\n",
       "      <td>64.0</td>\n",
       "      <td>22.51</td>\n",
       "      <td>0</td>\n",
       "      <td>-1</td>\n",
       "      <td>1</td>\n",
       "      <td>11.381443</td>\n",
       "      <td>19.310345</td>\n",
       "    </tr>\n",
       "  </tbody>\n",
       "</table>\n",
       "<p>1880 rows × 7 columns</p>\n",
       "</div>"
      ],
      "text/plain": [
       "       age    bmi  sex  cur_smoker  ever_smoker   pred_ahi   true_ahi\n",
       "0     85.0  20.00    0           0           -1  11.860465  12.589286\n",
       "1     84.0  24.55    1           0           -1  39.553903  43.155452\n",
       "2     67.0  20.36    0           0           -1  16.349614  20.818966\n",
       "3     63.0  27.32    1          -1            1  11.489362  10.757342\n",
       "4     63.0  47.72    0           1            1  45.014138  96.354680\n",
       "...    ...    ...  ...         ...          ...        ...        ...\n",
       "1875  65.0  25.75    1           0           -1  59.610895  51.687243\n",
       "1876  82.0  24.40    1          -1            0   7.888112  22.500000\n",
       "1877  79.0  27.89    1          -1            1   2.589928   4.541485\n",
       "1878  58.0  33.86    1           0           -1  38.771060  47.155963\n",
       "1879  64.0  22.51    0          -1            1  11.381443  19.310345\n",
       "\n",
       "[1880 rows x 7 columns]"
      ]
     },
     "execution_count": 26,
     "metadata": {},
     "output_type": "execute_result"
    }
   ],
   "source": [
    "full_dataset"
   ]
  },
  {
   "cell_type": "code",
   "execution_count": 27,
   "id": "74ba6e12",
   "metadata": {},
   "outputs": [],
   "source": [
    "def get_fold(full_dataset, fold_nr):\n",
    "    ds_len = len(full_dataset)\n",
    "    fold_len = ds_len // 4\n",
    "    folds = [\n",
    "        full_dataset[:fold_len],\n",
    "        full_dataset[fold_len:fold_len*2],\n",
    "        full_dataset[fold_len*2:fold_len*3],\n",
    "        full_dataset[fold_len*3:]\n",
    "    ]\n",
    "    train_dataset = pd.concat(folds[:fold_nr] + folds[fold_nr+1:])\n",
    "    test_dataset = folds[fold_nr]\n",
    "    return train_dataset, test_dataset"
   ]
  },
  {
   "cell_type": "code",
   "execution_count": 33,
   "id": "548d7e6f",
   "metadata": {},
   "outputs": [
    {
     "data": {
      "text/plain": [
       "array([[63.        , 29.07      ,  0.        , ..., -1.        ,\n",
       "        14.21538462, 10.176     ],\n",
       "       [79.        , 28.23      ,  1.        , ...,  1.        ,\n",
       "        39.81755986, 44.02649007],\n",
       "       [64.        , 32.36      ,  1.        , ..., -1.        ,\n",
       "        22.63027295, 22.14716526],\n",
       "       ...,\n",
       "       [79.        , 27.89      ,  1.        , ...,  1.        ,\n",
       "         2.58992806,  4.54148472],\n",
       "       [58.        , 33.86      ,  1.        , ..., -1.        ,\n",
       "        38.77106046, 47.1559633 ],\n",
       "       [64.        , 22.51      ,  0.        , ...,  1.        ,\n",
       "        11.3814433 , 19.31034483]])"
      ]
     },
     "execution_count": 33,
     "metadata": {},
     "output_type": "execute_result"
    }
   ],
   "source": [
    "get_fold(full_dataset, 3)[1].values"
   ]
  },
  {
   "cell_type": "code",
   "execution_count": 36,
   "id": "379bc85d",
   "metadata": {},
   "outputs": [
    {
     "data": {
      "text/plain": [
       "array([64.        , 22.51      ,  0.        , -1.        ,  1.        ,\n",
       "       11.3814433 , 19.31034483])"
      ]
     },
     "execution_count": 36,
     "metadata": {},
     "output_type": "execute_result"
    }
   ],
   "source": [
    "get_fold(full_dataset, 3)[1].values[-1]"
   ]
  },
  {
   "cell_type": "code",
   "execution_count": 39,
   "id": "184f7635",
   "metadata": {},
   "outputs": [
    {
     "data": {
      "text/plain": [
       "array([[63.        , 29.07      ,  0.        ,  0.        , -1.        ,\n",
       "        14.21538462],\n",
       "       [79.        , 28.23      ,  1.        , -1.        ,  1.        ,\n",
       "        39.81755986],\n",
       "       [64.        , 32.36      ,  1.        ,  0.        , -1.        ,\n",
       "        22.63027295],\n",
       "       ...,\n",
       "       [79.        , 27.89      ,  1.        , -1.        ,  1.        ,\n",
       "         2.58992806],\n",
       "       [58.        , 33.86      ,  1.        ,  0.        , -1.        ,\n",
       "        38.77106046],\n",
       "       [64.        , 22.51      ,  0.        , -1.        ,  1.        ,\n",
       "        11.3814433 ]])"
      ]
     },
     "execution_count": 39,
     "metadata": {},
     "output_type": "execute_result"
    }
   ],
   "source": [
    "get_fold(full_dataset, 3)[1][['age', 'bmi', 'sex', 'cur_smoker', 'ever_smoker', 'pred_ahi']].values"
   ]
  },
  {
   "cell_type": "code",
   "execution_count": 41,
   "id": "323eb3dd",
   "metadata": {},
   "outputs": [
    {
     "data": {
      "text/plain": [
       "470"
      ]
     },
     "execution_count": 41,
     "metadata": {},
     "output_type": "execute_result"
    }
   ],
   "source": [
    "len(get_fold(full_dataset, 3)[1]['true_ahi'].values)"
   ]
  },
  {
   "cell_type": "code",
   "execution_count": 46,
   "id": "c0da57b5",
   "metadata": {},
   "outputs": [
    {
     "ename": "AxisError",
     "evalue": "axis 1 is out of bounds for array of dimension 1",
     "output_type": "error",
     "traceback": [
      "\u001b[0;31m---------------------------------------------------------------------------\u001b[0m",
      "\u001b[0;31mAxisError\u001b[0m                                 Traceback (most recent call last)",
      "Cell \u001b[0;32mIn[46], line 1\u001b[0m\n\u001b[0;32m----> 1\u001b[0m \u001b[38;5;28mlen\u001b[39m(\u001b[43mnp\u001b[49m\u001b[38;5;241;43m.\u001b[39;49m\u001b[43mconcat\u001b[49m\u001b[43m(\u001b[49m\u001b[43m[\u001b[49m\u001b[43mget_fold\u001b[49m\u001b[43m(\u001b[49m\u001b[43mfull_dataset\u001b[49m\u001b[43m,\u001b[49m\u001b[43m \u001b[49m\u001b[38;5;241;43m3\u001b[39;49m\u001b[43m)\u001b[49m\u001b[43m[\u001b[49m\u001b[38;5;241;43m1\u001b[39;49m\u001b[43m]\u001b[49m\u001b[43m[\u001b[49m\u001b[38;5;124;43m'\u001b[39;49m\u001b[38;5;124;43mtrue_ahi\u001b[39;49m\u001b[38;5;124;43m'\u001b[39;49m\u001b[43m]\u001b[49m\u001b[38;5;241;43m.\u001b[39;49m\u001b[43mvalues\u001b[49m\u001b[43m,\u001b[49m\u001b[43m \u001b[49m\u001b[43mget_fold\u001b[49m\u001b[43m(\u001b[49m\u001b[43mfull_dataset\u001b[49m\u001b[43m,\u001b[49m\u001b[43m \u001b[49m\u001b[38;5;241;43m3\u001b[39;49m\u001b[43m)\u001b[49m\u001b[43m[\u001b[49m\u001b[38;5;241;43m1\u001b[39;49m\u001b[43m]\u001b[49m\u001b[43m[\u001b[49m\u001b[38;5;124;43m'\u001b[39;49m\u001b[38;5;124;43mtrue_ahi\u001b[39;49m\u001b[38;5;124;43m'\u001b[39;49m\u001b[43m]\u001b[49m\u001b[38;5;241;43m.\u001b[39;49m\u001b[43mvalues\u001b[49m\u001b[43m]\u001b[49m\u001b[43m,\u001b[49m\u001b[43m \u001b[49m\u001b[43maxis\u001b[49m\u001b[38;5;241;43m=\u001b[39;49m\u001b[38;5;241;43m1\u001b[39;49m\u001b[43m)\u001b[49m)\n",
      "\u001b[0;31mAxisError\u001b[0m: axis 1 is out of bounds for array of dimension 1"
     ]
    }
   ],
   "source": [
    "len(np.concat([get_fold(full_dataset, 3)[1]['true_ahi'].values, get_fold(full_dataset, 3)[1]['true_ahi'].values], axis=1))"
   ]
  },
  {
   "cell_type": "code",
   "execution_count": null,
   "id": "6845cf16",
   "metadata": {},
   "outputs": [],
   "source": []
  }
 ],
 "metadata": {
  "kernelspec": {
   "display_name": "master",
   "language": "python",
   "name": "python3"
  },
  "language_info": {
   "codemirror_mode": {
    "name": "ipython",
    "version": 3
   },
   "file_extension": ".py",
   "mimetype": "text/x-python",
   "name": "python",
   "nbconvert_exporter": "python",
   "pygments_lexer": "ipython3",
   "version": "3.12.7"
  }
 },
 "nbformat": 4,
 "nbformat_minor": 5
}
