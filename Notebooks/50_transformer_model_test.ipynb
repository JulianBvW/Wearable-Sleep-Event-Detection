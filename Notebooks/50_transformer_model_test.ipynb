{
 "cells": [
  {
   "cell_type": "code",
   "execution_count": 1,
   "metadata": {},
   "outputs": [],
   "source": [
    "from wearsed.models.transformer_model.TransformerModel import TransformerModel\n",
    "from torchinfo import summary\n",
    "import torch"
   ]
  },
  {
   "cell_type": "code",
   "execution_count": 2,
   "metadata": {},
   "outputs": [],
   "source": [
    "model = TransformerModel()"
   ]
  },
  {
   "cell_type": "code",
   "execution_count": 3,
   "metadata": {},
   "outputs": [
    {
     "data": {
      "text/plain": [
       "torch.Size([128, 258, 600])"
      ]
     },
     "execution_count": 3,
     "metadata": {},
     "output_type": "execute_result"
    }
   ],
   "source": [
    "example_data = torch.randn((4 * 32, 2+256, 600))\n",
    "example_data.shape"
   ]
  },
  {
   "cell_type": "code",
   "execution_count": 4,
   "metadata": {},
   "outputs": [
    {
     "data": {
      "text/plain": [
       "torch.Size([128, 600])"
      ]
     },
     "execution_count": 4,
     "metadata": {},
     "output_type": "execute_result"
    }
   ],
   "source": [
    "model(example_data).shape"
   ]
  },
  {
   "cell_type": "code",
   "execution_count": 5,
   "metadata": {},
   "outputs": [
    {
     "data": {
      "text/plain": [
       "===============================================================================================\n",
       "Layer (type:depth-idx)                        Output Shape              Param #\n",
       "===============================================================================================\n",
       "TransformerModel                              [128, 600]                --\n",
       "├─MultiScaleCNN: 1-1                          [128, 8, 600]             --\n",
       "│    └─Sequential: 2-1                        [128, 4, 153600]          --\n",
       "│    │    └─Conv1d: 3-1                       [128, 4, 153600]          24\n",
       "│    │    └─BatchNorm1d: 3-2                  [128, 4, 153600]          8\n",
       "│    │    └─ReLU: 3-3                         [128, 4, 153600]          --\n",
       "│    │    └─Conv1d: 3-4                       [128, 4, 153600]          84\n",
       "│    │    └─BatchNorm1d: 3-5                  [128, 4, 153600]          8\n",
       "│    │    └─ReLU: 3-6                         [128, 4, 153600]          --\n",
       "│    └─MaxPool1d: 2-2                         [128, 4, 38400]           --\n",
       "│    └─Sequential: 2-3                        [128, 8, 38400]           --\n",
       "│    │    └─Conv1d: 3-7                       [128, 8, 38400]           168\n",
       "│    │    └─BatchNorm1d: 3-8                  [128, 8, 38400]           16\n",
       "│    │    └─ReLU: 3-9                         [128, 8, 38400]           --\n",
       "│    │    └─Conv1d: 3-10                      [128, 8, 38400]           328\n",
       "│    │    └─BatchNorm1d: 3-11                 [128, 8, 38400]           16\n",
       "│    │    └─ReLU: 3-12                        [128, 8, 38400]           --\n",
       "│    └─MaxPool1d: 2-4                         [128, 8, 9600]            --\n",
       "│    └─Sequential: 2-5                        [128, 16, 9600]           --\n",
       "│    │    └─Conv1d: 3-13                      [128, 16, 9600]           400\n",
       "│    │    └─BatchNorm1d: 3-14                 [128, 16, 9600]           32\n",
       "│    │    └─ReLU: 3-15                        [128, 16, 9600]           --\n",
       "│    │    └─Conv1d: 3-16                      [128, 16, 9600]           784\n",
       "│    │    └─BatchNorm1d: 3-17                 [128, 16, 9600]           32\n",
       "│    │    └─ReLU: 3-18                        [128, 16, 9600]           --\n",
       "│    └─MaxPool1d: 2-6                         [128, 16, 2400]           --\n",
       "│    └─Sequential: 2-7                        [128, 8, 2400]            --\n",
       "│    │    └─Conv1d: 3-19                      [128, 8, 2400]            392\n",
       "│    │    └─BatchNorm1d: 3-20                 [128, 8, 2400]            16\n",
       "│    │    └─ReLU: 3-21                        [128, 8, 2400]            --\n",
       "│    │    └─Conv1d: 3-22                      [128, 8, 2400]            200\n",
       "│    │    └─BatchNorm1d: 3-23                 [128, 8, 2400]            16\n",
       "│    │    └─ReLU: 3-24                        [128, 8, 2400]            --\n",
       "│    └─MaxPool1d: 2-8                         [128, 8, 600]             --\n",
       "│    └─Sequential: 2-9                        [128, 4, 600]             --\n",
       "│    │    └─Conv1d: 3-25                      [128, 4, 600]             100\n",
       "│    │    └─BatchNorm1d: 3-26                 [128, 4, 600]             8\n",
       "│    │    └─ReLU: 3-27                        [128, 4, 600]             --\n",
       "│    │    └─Conv1d: 3-28                      [128, 4, 600]             52\n",
       "│    │    └─BatchNorm1d: 3-29                 [128, 4, 600]             8\n",
       "│    │    └─ReLU: 3-30                        [128, 4, 600]             --\n",
       "│    └─Sequential: 2-10                       [128, 4, 153600]          --\n",
       "│    │    └─Conv1d: 3-31                      [128, 4, 153600]          64\n",
       "│    │    └─BatchNorm1d: 3-32                 [128, 4, 153600]          8\n",
       "│    │    └─ReLU: 3-33                        [128, 4, 153600]          --\n",
       "│    │    └─Conv1d: 3-34                      [128, 4, 153600]          244\n",
       "│    │    └─BatchNorm1d: 3-35                 [128, 4, 153600]          8\n",
       "│    │    └─ReLU: 3-36                        [128, 4, 153600]          --\n",
       "│    └─MaxPool1d: 2-11                        [128, 4, 38400]           --\n",
       "│    └─Sequential: 2-12                       [128, 8, 38400]           --\n",
       "│    │    └─Conv1d: 3-37                      [128, 8, 38400]           488\n",
       "│    │    └─BatchNorm1d: 3-38                 [128, 8, 38400]           16\n",
       "│    │    └─ReLU: 3-39                        [128, 8, 38400]           --\n",
       "│    │    └─Conv1d: 3-40                      [128, 8, 38400]           968\n",
       "│    │    └─BatchNorm1d: 3-41                 [128, 8, 38400]           16\n",
       "│    │    └─ReLU: 3-42                        [128, 8, 38400]           --\n",
       "│    └─MaxPool1d: 2-13                        [128, 8, 9600]            --\n",
       "│    └─Sequential: 2-14                       [128, 16, 9600]           --\n",
       "│    │    └─Conv1d: 3-43                      [128, 16, 9600]           1,936\n",
       "│    │    └─BatchNorm1d: 3-44                 [128, 16, 9600]           32\n",
       "│    │    └─ReLU: 3-45                        [128, 16, 9600]           --\n",
       "│    │    └─Conv1d: 3-46                      [128, 16, 9600]           3,856\n",
       "│    │    └─BatchNorm1d: 3-47                 [128, 16, 9600]           32\n",
       "│    │    └─ReLU: 3-48                        [128, 16, 9600]           --\n",
       "│    └─MaxPool1d: 2-15                        [128, 16, 2400]           --\n",
       "│    └─Sequential: 2-16                       [128, 8, 2400]            --\n",
       "│    │    └─Conv1d: 3-49                      [128, 8, 2400]            1,928\n",
       "│    │    └─BatchNorm1d: 3-50                 [128, 8, 2400]            16\n",
       "│    │    └─ReLU: 3-51                        [128, 8, 2400]            --\n",
       "│    │    └─Conv1d: 3-52                      [128, 8, 2400]            968\n",
       "│    │    └─BatchNorm1d: 3-53                 [128, 8, 2400]            16\n",
       "│    │    └─ReLU: 3-54                        [128, 8, 2400]            --\n",
       "│    └─MaxPool1d: 2-17                        [128, 8, 600]             --\n",
       "│    └─Sequential: 2-18                       [128, 4, 600]             --\n",
       "│    │    └─Conv1d: 3-55                      [128, 4, 600]             484\n",
       "│    │    └─BatchNorm1d: 3-56                 [128, 4, 600]             8\n",
       "│    │    └─ReLU: 3-57                        [128, 4, 600]             --\n",
       "│    │    └─Conv1d: 3-58                      [128, 4, 600]             244\n",
       "│    │    └─BatchNorm1d: 3-59                 [128, 4, 600]             8\n",
       "│    │    └─ReLU: 3-60                        [128, 4, 600]             --\n",
       "├─SE_Block: 1-2                               [128, 8, 600]             --\n",
       "│    └─AdaptiveAvgPool1d: 2-19                [128, 8, 1]               --\n",
       "│    └─Sequential: 2-20                       [128, 8]                  --\n",
       "│    │    └─Linear: 3-61                      [128, 4]                  32\n",
       "│    │    └─ReLU: 3-62                        [128, 4]                  --\n",
       "│    │    └─Linear: 3-63                      [128, 8]                  32\n",
       "│    │    └─Sigmoid: 3-64                     [128, 8]                  --\n",
       "├─Summer: 1-3                                 [128, 10, 600]            --\n",
       "│    └─PositionalEncodingPermute1D: 2-21      [128, 10, 600]            --\n",
       "│    │    └─PositionalEncoding1D: 3-65        [128, 600, 10]            --\n",
       "├─Conv1d: 1-4                                 [128, 80, 600]            2,480\n",
       "├─TransformerEncoder: 1-5                     [128, 600, 80]            --\n",
       "│    └─ModuleList: 2-22                       --                        --\n",
       "│    │    └─TransformerEncoderLayer: 3-66     [128, 600, 80]            356,048\n",
       "│    │    └─TransformerEncoderLayer: 3-67     [128, 600, 80]            356,048\n",
       "├─Conv1d: 1-6                                 [128, 10, 600]            2,410\n",
       "├─Conv1d: 1-7                                 [128, 1, 600]             11\n",
       "===============================================================================================\n",
       "Total params: 731,093\n",
       "Trainable params: 731,093\n",
       "Non-trainable params: 0\n",
       "Total mult-adds (Units.GIGABYTES): 27.95\n",
       "===============================================================================================\n",
       "Input size (MB): 79.26\n",
       "Forward/backward pass size (MB): 11852.40\n",
       "Params size (MB): 2.72\n",
       "Estimated Total Size (MB): 11934.38\n",
       "==============================================================================================="
      ]
     },
     "execution_count": 5,
     "metadata": {},
     "output_type": "execute_result"
    }
   ],
   "source": [
    "summary(model, input_size=(4 * 32, 2+256, 600))"
   ]
  },
  {
   "cell_type": "code",
   "execution_count": 6,
   "metadata": {},
   "outputs": [
    {
     "data": {
      "text/plain": [
       "===============================================================================================\n",
       "Layer (type:depth-idx)                        Output Shape              Param #\n",
       "===============================================================================================\n",
       "TransformerModel                              [128, 1800]               --\n",
       "├─MultiScaleCNN: 1-1                          [128, 8, 1800]            --\n",
       "│    └─Sequential: 2-1                        [128, 4, 460800]          --\n",
       "│    │    └─Conv1d: 3-1                       [128, 4, 460800]          24\n",
       "│    │    └─BatchNorm1d: 3-2                  [128, 4, 460800]          8\n",
       "│    │    └─ReLU: 3-3                         [128, 4, 460800]          --\n",
       "│    │    └─Conv1d: 3-4                       [128, 4, 460800]          84\n",
       "│    │    └─BatchNorm1d: 3-5                  [128, 4, 460800]          8\n",
       "│    │    └─ReLU: 3-6                         [128, 4, 460800]          --\n",
       "│    └─MaxPool1d: 2-2                         [128, 4, 115200]          --\n",
       "│    └─Sequential: 2-3                        [128, 8, 115200]          --\n",
       "│    │    └─Conv1d: 3-7                       [128, 8, 115200]          168\n",
       "│    │    └─BatchNorm1d: 3-8                  [128, 8, 115200]          16\n",
       "│    │    └─ReLU: 3-9                         [128, 8, 115200]          --\n",
       "│    │    └─Conv1d: 3-10                      [128, 8, 115200]          328\n",
       "│    │    └─BatchNorm1d: 3-11                 [128, 8, 115200]          16\n",
       "│    │    └─ReLU: 3-12                        [128, 8, 115200]          --\n",
       "│    └─MaxPool1d: 2-4                         [128, 8, 28800]           --\n",
       "│    └─Sequential: 2-5                        [128, 16, 28800]          --\n",
       "│    │    └─Conv1d: 3-13                      [128, 16, 28800]          400\n",
       "│    │    └─BatchNorm1d: 3-14                 [128, 16, 28800]          32\n",
       "│    │    └─ReLU: 3-15                        [128, 16, 28800]          --\n",
       "│    │    └─Conv1d: 3-16                      [128, 16, 28800]          784\n",
       "│    │    └─BatchNorm1d: 3-17                 [128, 16, 28800]          32\n",
       "│    │    └─ReLU: 3-18                        [128, 16, 28800]          --\n",
       "│    └─MaxPool1d: 2-6                         [128, 16, 7200]           --\n",
       "│    └─Sequential: 2-7                        [128, 8, 7200]            --\n",
       "│    │    └─Conv1d: 3-19                      [128, 8, 7200]            392\n",
       "│    │    └─BatchNorm1d: 3-20                 [128, 8, 7200]            16\n",
       "│    │    └─ReLU: 3-21                        [128, 8, 7200]            --\n",
       "│    │    └─Conv1d: 3-22                      [128, 8, 7200]            200\n",
       "│    │    └─BatchNorm1d: 3-23                 [128, 8, 7200]            16\n",
       "│    │    └─ReLU: 3-24                        [128, 8, 7200]            --\n",
       "│    └─MaxPool1d: 2-8                         [128, 8, 1800]            --\n",
       "│    └─Sequential: 2-9                        [128, 4, 1800]            --\n",
       "│    │    └─Conv1d: 3-25                      [128, 4, 1800]            100\n",
       "│    │    └─BatchNorm1d: 3-26                 [128, 4, 1800]            8\n",
       "│    │    └─ReLU: 3-27                        [128, 4, 1800]            --\n",
       "│    │    └─Conv1d: 3-28                      [128, 4, 1800]            52\n",
       "│    │    └─BatchNorm1d: 3-29                 [128, 4, 1800]            8\n",
       "│    │    └─ReLU: 3-30                        [128, 4, 1800]            --\n",
       "│    └─Sequential: 2-10                       [128, 4, 460800]          --\n",
       "│    │    └─Conv1d: 3-31                      [128, 4, 460800]          64\n",
       "│    │    └─BatchNorm1d: 3-32                 [128, 4, 460800]          8\n",
       "│    │    └─ReLU: 3-33                        [128, 4, 460800]          --\n",
       "│    │    └─Conv1d: 3-34                      [128, 4, 460800]          244\n",
       "│    │    └─BatchNorm1d: 3-35                 [128, 4, 460800]          8\n",
       "│    │    └─ReLU: 3-36                        [128, 4, 460800]          --\n",
       "│    └─MaxPool1d: 2-11                        [128, 4, 115200]          --\n",
       "│    └─Sequential: 2-12                       [128, 8, 115200]          --\n",
       "│    │    └─Conv1d: 3-37                      [128, 8, 115200]          488\n",
       "│    │    └─BatchNorm1d: 3-38                 [128, 8, 115200]          16\n",
       "│    │    └─ReLU: 3-39                        [128, 8, 115200]          --\n",
       "│    │    └─Conv1d: 3-40                      [128, 8, 115200]          968\n",
       "│    │    └─BatchNorm1d: 3-41                 [128, 8, 115200]          16\n",
       "│    │    └─ReLU: 3-42                        [128, 8, 115200]          --\n",
       "│    └─MaxPool1d: 2-13                        [128, 8, 28800]           --\n",
       "│    └─Sequential: 2-14                       [128, 16, 28800]          --\n",
       "│    │    └─Conv1d: 3-43                      [128, 16, 28800]          1,936\n",
       "│    │    └─BatchNorm1d: 3-44                 [128, 16, 28800]          32\n",
       "│    │    └─ReLU: 3-45                        [128, 16, 28800]          --\n",
       "│    │    └─Conv1d: 3-46                      [128, 16, 28800]          3,856\n",
       "│    │    └─BatchNorm1d: 3-47                 [128, 16, 28800]          32\n",
       "│    │    └─ReLU: 3-48                        [128, 16, 28800]          --\n",
       "│    └─MaxPool1d: 2-15                        [128, 16, 7200]           --\n",
       "│    └─Sequential: 2-16                       [128, 8, 7200]            --\n",
       "│    │    └─Conv1d: 3-49                      [128, 8, 7200]            1,928\n",
       "│    │    └─BatchNorm1d: 3-50                 [128, 8, 7200]            16\n",
       "│    │    └─ReLU: 3-51                        [128, 8, 7200]            --\n",
       "│    │    └─Conv1d: 3-52                      [128, 8, 7200]            968\n",
       "│    │    └─BatchNorm1d: 3-53                 [128, 8, 7200]            16\n",
       "│    │    └─ReLU: 3-54                        [128, 8, 7200]            --\n",
       "│    └─MaxPool1d: 2-17                        [128, 8, 1800]            --\n",
       "│    └─Sequential: 2-18                       [128, 4, 1800]            --\n",
       "│    │    └─Conv1d: 3-55                      [128, 4, 1800]            484\n",
       "│    │    └─BatchNorm1d: 3-56                 [128, 4, 1800]            8\n",
       "│    │    └─ReLU: 3-57                        [128, 4, 1800]            --\n",
       "│    │    └─Conv1d: 3-58                      [128, 4, 1800]            244\n",
       "│    │    └─BatchNorm1d: 3-59                 [128, 4, 1800]            8\n",
       "│    │    └─ReLU: 3-60                        [128, 4, 1800]            --\n",
       "├─SE_Block: 1-2                               [128, 8, 1800]            --\n",
       "│    └─AdaptiveAvgPool1d: 2-19                [128, 8, 1]               --\n",
       "│    └─Sequential: 2-20                       [128, 8]                  --\n",
       "│    │    └─Linear: 3-61                      [128, 4]                  32\n",
       "│    │    └─ReLU: 3-62                        [128, 4]                  --\n",
       "│    │    └─Linear: 3-63                      [128, 8]                  32\n",
       "│    │    └─Sigmoid: 3-64                     [128, 8]                  --\n",
       "├─Summer: 1-3                                 [128, 10, 1800]           --\n",
       "│    └─PositionalEncodingPermute1D: 2-21      [128, 10, 1800]           --\n",
       "│    │    └─PositionalEncoding1D: 3-65        [128, 1800, 10]           --\n",
       "├─Conv1d: 1-4                                 [128, 80, 1800]           2,480\n",
       "├─TransformerEncoder: 1-5                     [128, 1800, 80]           --\n",
       "│    └─ModuleList: 2-22                       --                        --\n",
       "│    │    └─TransformerEncoderLayer: 3-66     [128, 1800, 80]           356,048\n",
       "│    │    └─TransformerEncoderLayer: 3-67     [128, 1800, 80]           356,048\n",
       "├─Conv1d: 1-6                                 [128, 10, 1800]           2,410\n",
       "├─Conv1d: 1-7                                 [128, 1, 1800]            11\n",
       "===============================================================================================\n",
       "Total params: 731,093\n",
       "Trainable params: 731,093\n",
       "Non-trainable params: 0\n",
       "Total mult-adds (Units.GIGABYTES): 83.67\n",
       "===============================================================================================\n",
       "Input size (MB): 237.77\n",
       "Forward/backward pass size (MB): 35557.18\n",
       "Params size (MB): 2.72\n",
       "Estimated Total Size (MB): 35797.67\n",
       "==============================================================================================="
      ]
     },
     "execution_count": 6,
     "metadata": {},
     "output_type": "execute_result"
    }
   ],
   "source": [
    "summary(model, input_size=(4 * 32, 2+256, 3*600))"
   ]
  },
  {
   "cell_type": "code",
   "execution_count": null,
   "metadata": {},
   "outputs": [],
   "source": []
  }
 ],
 "metadata": {
  "kernelspec": {
   "display_name": "master",
   "language": "python",
   "name": "python3"
  },
  "language_info": {
   "codemirror_mode": {
    "name": "ipython",
    "version": 3
   },
   "file_extension": ".py",
   "mimetype": "text/x-python",
   "name": "python",
   "nbconvert_exporter": "python",
   "pygments_lexer": "ipython3",
   "version": "3.12.7"
  }
 },
 "nbformat": 4,
 "nbformat_minor": 2
}
