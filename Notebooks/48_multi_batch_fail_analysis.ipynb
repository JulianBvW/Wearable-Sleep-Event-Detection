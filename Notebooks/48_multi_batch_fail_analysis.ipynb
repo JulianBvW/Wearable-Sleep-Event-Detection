{
 "cells": [
  {
   "cell_type": "code",
   "execution_count": 1,
   "metadata": {},
   "outputs": [],
   "source": [
    "'''\n",
    "Got an error while in train loop for these values:\n",
    "    -> datapoint_id=5921\n",
    "      # start=34746\n",
    "\n",
    "@here:\n",
    "    x, y = get_multi_batch(full_dataset, train_ids, i, multi_batch_size=args.multi_batch_size, batch_size=args.batch_size, seq_length=args.seq_length)\n",
    "''';"
   ]
  },
  {
   "cell_type": "code",
   "execution_count": 2,
   "metadata": {},
   "outputs": [],
   "source": [
    "from wearsed.dataset.WearSEDDataset import WearSEDDataset\n",
    "import torch\n",
    "\n",
    "full_dataset = WearSEDDataset(mesaid_path='../wearsed/dataset/data_ids/', signals_to_read=['SpO2', 'Pleth'])"
   ]
  },
  {
   "cell_type": "code",
   "execution_count": 3,
   "metadata": {},
   "outputs": [],
   "source": [
    "# Reconstruct error\n",
    "mesa_id = 5921\n",
    "start = 34746\n",
    "seq_length = 30*60\n",
    "\n",
    "(hypnogram, spo2, pleth), event_or_not, _ = full_dataset.from_id(mesa_id)\n",
    "\n",
    "end = start + seq_length\n",
    "seq_hypnogram = hypnogram[start:end].view((1, -1))\n",
    "seq_spo2 = spo2[start:end].view((1, -1))\n",
    "seq_pleth = pleth[start*256:end*256].view((256, -1))\n",
    "combined_signal = torch.cat([seq_hypnogram, seq_spo2, seq_pleth], dim=0)"
   ]
  },
  {
   "cell_type": "code",
   "execution_count": 4,
   "metadata": {},
   "outputs": [
    {
     "name": "stdout",
     "output_type": "stream",
     "text": [
      "hypnogram      36550\n",
      "spo2           36550\n",
      "pleth          36550 9356800\n",
      "--\n",
      "seq_hypnogram  torch.Size([1, 1800])\n",
      "seq_spo2       torch.Size([1, 1800])\n",
      "seq_pleth      torch.Size([256, 1800])\n"
     ]
    }
   ],
   "source": [
    "print('hypnogram     ', len(hypnogram))\n",
    "print('spo2          ', len(spo2))\n",
    "print('pleth         ', len(pleth) // 256, len(pleth))\n",
    "print('--')\n",
    "print('seq_hypnogram ', seq_hypnogram.shape)\n",
    "print('seq_spo2      ', seq_spo2.shape)\n",
    "print('seq_pleth     ', seq_pleth.shape)"
   ]
  },
  {
   "cell_type": "code",
   "execution_count": null,
   "metadata": {},
   "outputs": [],
   "source": [
    "# Fixed"
   ]
  }
 ],
 "metadata": {
  "kernelspec": {
   "display_name": "master",
   "language": "python",
   "name": "python3"
  },
  "language_info": {
   "codemirror_mode": {
    "name": "ipython",
    "version": 3
   },
   "file_extension": ".py",
   "mimetype": "text/x-python",
   "name": "python",
   "nbconvert_exporter": "python",
   "pygments_lexer": "ipython3",
   "version": "3.12.7"
  }
 },
 "nbformat": 4,
 "nbformat_minor": 2
}
