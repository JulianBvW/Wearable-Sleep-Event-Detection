{
 "cells": [
  {
   "cell_type": "code",
   "execution_count": 44,
   "metadata": {},
   "outputs": [],
   "source": [
    "import numpy as np\n",
    "import pandas as pd"
   ]
  },
  {
   "cell_type": "code",
   "execution_count": 3,
   "metadata": {},
   "outputs": [],
   "source": [
    "mesa_ids = pd.read_csv('../wearsed/dataset/data_ids/mesa_ids_somnolyzer.csv')"
   ]
  },
  {
   "cell_type": "code",
   "execution_count": 111,
   "metadata": {},
   "outputs": [
    {
     "name": "stdout",
     "output_type": "stream",
     "text": [
      "[56, 101, 111, 159, 167, 204, 258, 295, 385, 408, 415, 419, 427, 445, 469, 501, 563, 583, 586, 628, 632, 639, 688, 728, 762, 768, 812, 854, 862, 893, 899, 928, 949, 971, 1018, 1022, 1048, 1068, 1074, 1177, 1298, 1305, 1389, 1413, 1463, 1577, 1703, 1717, 1732, 1742, 1842, 1850, 1884, 2042, 2094, 2175, 2192, 2206, 2280, 2300, 2413, 2459, 2473, 2549, 2567, 2582, 2602, 2604, 2632, 2634, 2659, 2696, 2723, 2792, 2868, 2913, 2932, 2952, 2987, 2996, 3061, 3089, 3113, 3135, 3211, 3257, 3336, 3369, 3389, 3413, 3426, 3431, 3508, 3520, 3560, 3570, 3598, 3664, 3689, 3717, 3787, 3803, 3815, 3861, 3904, 3925, 3993, 4070, 4109, 4117, 4301, 4318, 4352, 4367, 4432, 4461, 4499, 4575, 4618, 4623, 4667, 4715, 4729, 4831, 4842, 4846, 4860, 4861, 4892, 4935, 4969, 4994, 5072, 5119, 5127, 5131, 5219, 5292, 5318, 5450, 5479, 5513, 5529, 5551, 5622, 5658, 5665, 5669, 5673, 5677, 5748, 5754, 5784, 5842, 5876, 5891, 5906, 5921, 5947, 5980, 5993, 6011, 6029, 6071, 6097, 6099, 6131, 6155, 6262, 6278, 6300, 6308, 6316, 6340, 6430, 6435, 6460, 6476, 6491, 6500, 6503, 6621, 6730, 6754, 6759]\n",
      "[251, 288, 292, 323, 339, 393, 458, 509, 636, 664, 837, 926, 967, 1570, 1670, 1684, 1772, 1789, 2049, 2066, 2169, 2337, 2616, 2650, 2670, 2677, 2681, 2828, 2846, 2862, 2946, 2988, 3259, 3298, 3442, 3477, 3771, 4091, 4152, 4296, 4436, 4520, 4658, 4782, 4815, 5243, 5390, 5463, 5514, 5606, 5659, 5704, 5780, 5869, 5955, 6075, 6132, 6209, 6252, 6331, 6337, 6370]\n"
     ]
    }
   ],
   "source": [
    "class_0 = mesa_ids[mesa_ids['ahi_severity_class'] == 0]['id'].values\n",
    "np.random.shuffle(class_0)\n",
    "train_set_size = round(len(class_0) * 0.75)\n",
    "train_set, test_set = class_0[:train_set_size], class_0[train_set_size:]\n",
    "\n",
    "print(sorted([int(x) for x in train_set]))\n",
    "print(sorted([int(x) for x in test_set]))"
   ]
  },
  {
   "cell_type": "code",
   "execution_count": null,
   "metadata": {},
   "outputs": [],
   "source": []
  }
 ],
 "metadata": {
  "kernelspec": {
   "display_name": "master",
   "language": "python",
   "name": "python3"
  },
  "language_info": {
   "codemirror_mode": {
    "name": "ipython",
    "version": 3
   },
   "file_extension": ".py",
   "mimetype": "text/x-python",
   "name": "python",
   "nbconvert_exporter": "python",
   "pygments_lexer": "ipython3",
   "version": "3.12.7"
  }
 },
 "nbformat": 4,
 "nbformat_minor": 2
}
